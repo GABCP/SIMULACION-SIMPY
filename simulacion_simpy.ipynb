{
  "nbformat": 4,
  "nbformat_minor": 0,
  "metadata": {
    "colab": {
      "name": "simulacion simpy",
      "provenance": [],
      "include_colab_link": true
    },
    "kernelspec": {
      "name": "python3",
      "display_name": "Python 3"
    }
  },
  "cells": [
    {
      "cell_type": "markdown",
      "metadata": {
        "id": "view-in-github",
        "colab_type": "text"
      },
      "source": [
        "<a href=\"https://colab.research.google.com/github/GABCP/SIMULACION-SIMPY/blob/master/simulacion_simpy.ipynb\" target=\"_parent\"><img src=\"https://colab.research.google.com/assets/colab-badge.svg\" alt=\"Open In Colab\"/></a>"
      ]
    },
    {
      "cell_type": "code",
      "metadata": {
        "id": "BmlaTTo8FF-3",
        "colab_type": "code",
        "outputId": "c581c776-4174-48b6-cd88-9935393c094a",
        "colab": {
          "base_uri": "https://localhost:8080/",
          "height": 110
        }
      },
      "source": [
        "pip install simpy"
      ],
      "execution_count": 0,
      "outputs": [
        {
          "output_type": "stream",
          "text": [
            "Collecting simpy\n",
            "  Downloading https://files.pythonhosted.org/packages/5a/64/8f0fc71400d41b6c2c6443d333a1cade458d23d4945ccda700c810ff6aae/simpy-3.0.11-py2.py3-none-any.whl\n",
            "Installing collected packages: simpy\n",
            "Successfully installed simpy-3.0.11\n"
          ],
          "name": "stdout"
        }
      ]
    },
    {
      "cell_type": "code",
      "metadata": {
        "id": "XlIhEA4oFS6j",
        "colab_type": "code",
        "colab": {}
      },
      "source": [
        "import random\n",
        "\n",
        "import simpy\n"
      ],
      "execution_count": 0,
      "outputs": []
    },
    {
      "cell_type": "code",
      "metadata": {
        "id": "Oo7SiHi-JjnN",
        "colab_type": "code",
        "colab": {}
      },
      "source": [
        "RANDOM_SEED = 42\n",
        "NUM_MACHINES = 2  # Number of machines \n",
        "WASHTIME = 10      # Minutes it takes to clean \n",
        "T_INTER = 12       # Create  every ~7 minutes\n",
        "SIM_TIME = 60     # Simulation time in minutes\n"
      ],
      "execution_count": 0,
      "outputs": []
    },
    {
      "cell_type": "code",
      "metadata": {
        "id": "0z0LrWSUJjW9",
        "colab_type": "code",
        "colab": {}
      },
      "source": [
        ""
      ],
      "execution_count": 0,
      "outputs": []
    },
    {
      "cell_type": "code",
      "metadata": {
        "id": "k8NG4JEQFSoL",
        "colab_type": "code",
        "outputId": "239bfa69-118b-496d-ff79-70c53102068b",
        "colab": {
          "base_uri": "https://localhost:8080/",
          "height": 508
        }
      },
      "source": [
        "class Hairwash(object):\n",
        "\n",
        "    def __init__(self, env, num_machines, washtime):\n",
        "        self.env = env\n",
        "        self.machine = simpy.Resource(env, num_machines)\n",
        "        self.washtime = washtime\n",
        "\n",
        "    def wash(self, hair):\n",
        "       \n",
        "        yield self.env.timeout(WASHTIME)\n",
        "        print(\"hairwash removed %d%% of %s's dirt.\" %\n",
        "              (random.randint(50, 99), hair))\n",
        "\n",
        "\n",
        "def hair(env, name, hw):\n",
        "    print('%s arrives at the hairwash at %.2f.' % (name, env.now))\n",
        "    with hw.machine.request() as request:\n",
        "        yield request\n",
        "\n",
        "        print('%s enters the hairwash at %.2f.' % (name, env.now))\n",
        "        yield env.process(hw.wash(name))\n",
        "\n",
        "        print('%s leaves the hairwash at %.2f.' % (name, env.now))\n",
        "\n",
        "\n",
        "def setup(env, num_machines, washtime, t_inter):\n",
        "  \n",
        "    # Create the hairwash\n",
        "    hairwash = Hairwash(env, num_machines, washtime)\n",
        "\n",
        "    # Create 4 initial \n",
        "    for i in range(4):\n",
        "        env.process(car(env, 'hair %d' % i, hairwash))\n",
        "\n",
        "    # Create more hairs while the simulation is running\n",
        "    while True:\n",
        "        yield env.timeout(random.randint(t_inter - 2, t_inter + 2))\n",
        "        i += 1\n",
        "        env.process(car(env, 'hair %d' % i, hairwash))\n",
        "\n",
        "\n",
        "# Setup and start the simulation\n",
        "print('Hairwash')\n",
        "random.seed(RANDOM_SEED)  # This helps reproducing the results\n",
        "\n",
        "# Create an environment and start the setup process\n",
        "env = simpy.Environment()\n",
        "env.process(setup(env, NUM_MACHINES, WASHTIME, T_INTER))\n",
        "\n",
        "# Execute!\n",
        "env.run(until=SIM_TIME)"
      ],
      "execution_count": 0,
      "outputs": [
        {
          "output_type": "stream",
          "text": [
            "Hairwash\n",
            "hair 0 arrives at the carwash at 0.00.\n",
            "hair 1 arrives at the carwash at 0.00.\n",
            "hair 2 arrives at the carwash at 0.00.\n",
            "hair 3 arrives at the carwash at 0.00.\n",
            "hair 0 enters the carwash at 0.00.\n",
            "hair 1 enters the carwash at 0.00.\n",
            "hair 4 arrives at the carwash at 5.00.\n",
            "hairwash removed 97% of hair 0's dirt.\n",
            "hairwash removed 67% of hair 1's dirt.\n",
            "hair 0 leaves the carwash at 5.00.\n",
            "hair 1 leaves the carwash at 5.00.\n",
            "hair 2 enters the carwash at 5.00.\n",
            "hair 3 enters the carwash at 5.00.\n",
            "hair 5 arrives at the carwash at 10.00.\n",
            "hairwash removed 64% of hair 2's dirt.\n",
            "hairwash removed 58% of hair 3's dirt.\n",
            "hair 2 leaves the carwash at 10.00.\n",
            "hair 3 leaves the carwash at 10.00.\n",
            "hair 4 enters the carwash at 10.00.\n",
            "hair 5 enters the carwash at 10.00.\n",
            "hairwash removed 97% of hair 4's dirt.\n",
            "hairwash removed 56% of hair 5's dirt.\n",
            "hair 4 leaves the carwash at 15.00.\n",
            "hair 5 leaves the carwash at 15.00.\n",
            "hair 6 arrives at the carwash at 16.00.\n",
            "hair 6 enters the carwash at 16.00.\n"
          ],
          "name": "stdout"
        }
      ]
    },
    {
      "cell_type": "markdown",
      "metadata": {
        "id": "cinN6SdYYRPq",
        "colab_type": "text"
      },
      "source": [
        "lo modifique todo y no se porque sigue saliendo con carwash  :("
      ]
    }
  ]
}